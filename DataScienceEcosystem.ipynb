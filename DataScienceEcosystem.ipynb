{
 "cells": [
  {
   "cell_type": "markdown",
   "id": "f0e5d5c3-c26c-4ebf-935e-fe40310a07f6",
   "metadata": {},
   "source": [
    "# Data Science Tools and Ecosystem"
   ]
  },
  {
   "cell_type": "markdown",
   "id": "71406162-e7db-49c7-bfc7-0fca92adef08",
   "metadata": {},
   "source": [
    "In this notebook, Data Science Tools and Ecosystem are summerized."
   ]
  },
  {
   "cell_type": "markdown",
   "id": "d69a4899-36c3-4a68-9282-779dd403f128",
   "metadata": {},
   "source": [
    "**Objectives**\n",
    "- List Popular Languages\n",
    "- List Common Libraries\n",
    "- Give Arithmetic Examples"
   ]
  },
  {
   "cell_type": "markdown",
   "id": "2bd1992f-c35b-4dd1-b72f-2baca99e13b8",
   "metadata": {},
   "source": [
    "Some of the popular languages that Data Scientist use are:\n",
    "1. Python\n",
    "2. R\n",
    "3. Julia"
   ]
  },
  {
   "cell_type": "markdown",
   "id": "07c79939-d9ba-4d0f-a29b-c6fb66490391",
   "metadata": {},
   "source": [
    "Some of the commonly used libraries used by Data Scientists include:\n",
    "1. Pandas\n",
    "2. Numpy\n",
    "3. Keras"
   ]
  },
  {
   "cell_type": "markdown",
   "id": "a79bcf8f-31a4-4916-ba1b-292aa88b6baa",
   "metadata": {},
   "source": [
    "|Data Science Tools|\n",
    "--------------------\n",
    "|Anaconda|\n",
    "|Pycharm|\n",
    "|AWS|\n",
    "\n"
   ]
  },
  {
   "cell_type": "markdown",
   "id": "f8458340-b377-4b3c-87f9-aa7101d783ef",
   "metadata": {},
   "source": [
    "### Below are a few examples of evaluating arithmetic expressions in Python"
   ]
  },
  {
   "cell_type": "code",
   "execution_count": 1,
   "id": "008ba48b-7cde-4cb4-9e20-271e74b198db",
   "metadata": {},
   "outputs": [
    {
     "data": {
      "text/plain": [
       "17"
      ]
     },
     "execution_count": 1,
     "metadata": {},
     "output_type": "execute_result"
    }
   ],
   "source": [
    "# This is a simple arithmetic expression to multiply then add intergers\n",
    "(3*4)+5"
   ]
  },
  {
   "cell_type": "code",
   "execution_count": 2,
   "id": "73db1fe4-bbfb-439d-b5df-76c895d872dc",
   "metadata": {},
   "outputs": [
    {
     "data": {
      "text/plain": [
       "3.3333333333333335"
      ]
     },
     "execution_count": 2,
     "metadata": {},
     "output_type": "execute_result"
    }
   ],
   "source": [
    "# This will convert 200 minutes into hours by dividing by 60\n",
    "200/60"
   ]
  },
  {
   "cell_type": "markdown",
   "id": "07fe6268-076f-44bd-9e02-7a7c9cee4e56",
   "metadata": {},
   "source": [
    "## Author\n",
    "Melanie Howitt"
   ]
  },
  {
   "cell_type": "code",
   "execution_count": null,
   "id": "9868cb70-21fb-4b9b-b16c-f7593b951eeb",
   "metadata": {},
   "outputs": [],
   "source": []
  }
 ],
 "metadata": {
  "kernelspec": {
   "display_name": "Python 3 (ipykernel)",
   "language": "python",
   "name": "python3"
  },
  "language_info": {
   "codemirror_mode": {
    "name": "ipython",
    "version": 3
   },
   "file_extension": ".py",
   "mimetype": "text/x-python",
   "name": "python",
   "nbconvert_exporter": "python",
   "pygments_lexer": "ipython3",
   "version": "3.11.7"
  }
 },
 "nbformat": 4,
 "nbformat_minor": 5
}
